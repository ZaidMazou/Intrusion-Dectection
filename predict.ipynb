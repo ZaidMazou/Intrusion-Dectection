{
 "cells": [
  {
   "cell_type": "code",
   "execution_count": 1,
   "id": "80b62bf0-1149-4b1f-b8f1-31605b81e388",
   "metadata": {},
   "outputs": [],
   "source": [
    "import requests\n",
    "import json"
   ]
  },
  {
   "cell_type": "code",
   "execution_count": null,
   "id": "441ab6f6-7a0d-42de-90bc-fb612f8dc66f",
   "metadata": {},
   "outputs": [],
   "source": [
    "def send_log_to_ml_server(log):\n",
    "    url = 'http://localhost:5000/predict'\n",
    "    payload = {'features': log['features']}\n",
    "    headers = {'Content-Type': 'application/json'}\n",
    "    response = requests.post(url, data=json.dumps(payload), headers=headers)\n",
    "    return response.json()\n",
    "\n",
    "# Exemple de log de Snort\n",
    "log_example = {'features': [0.1, 0.2, 0.3, 0.4]}\n",
    "result = send_log_to_ml_server(log_example)\n",
    "print(result)\n"
   ]
  }
 ],
 "metadata": {
  "kernelspec": {
   "display_name": "Python 3 (ipykernel)",
   "language": "python",
   "name": "python3"
  },
  "language_info": {
   "codemirror_mode": {
    "name": "ipython",
    "version": 3
   },
   "file_extension": ".py",
   "mimetype": "text/x-python",
   "name": "python",
   "nbconvert_exporter": "python",
   "pygments_lexer": "ipython3",
   "version": "3.11.4"
  }
 },
 "nbformat": 4,
 "nbformat_minor": 5
}
